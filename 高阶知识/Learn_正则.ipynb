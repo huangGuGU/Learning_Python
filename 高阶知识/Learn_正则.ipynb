{
 "cells": [
  {
   "cell_type": "code",
   "execution_count": 1,
   "metadata": {},
   "outputs": [],
   "source": [
    "import re"
   ]
  },
  {
   "cell_type": "code",
   "execution_count": 6,
   "metadata": {},
   "outputs": [
    {
     "name": "stdout",
     "output_type": "stream",
     "text": [
      "(0, 3)\n",
      "None\n"
     ]
    }
   ],
   "source": [
    "print(re.match('www', 'www.runoob.com').span())  # 在起始位置匹配\n",
    "print(re.match('com', 'www.runoob.com'))         # 不在起始位置匹配"
   ]
  },
  {
   "cell_type": "code",
   "execution_count": 7,
   "metadata": {},
   "outputs": [
    {
     "name": "stdout",
     "output_type": "stream",
     "text": [
      "matchObj.group() :  Cats are smarter than dogs\n",
      "matchObj.group(1) :  Cats\n",
      "matchObj.group(2) :  smarter\n"
     ]
    }
   ],
   "source": [
    "line = \"Cats are smarter than dogs\"\n",
    " \n",
    "matchObj = re.match( r'(.*) are (.*?) .*', line, re.M|re.I)\n",
    " \n",
    "if matchObj:\n",
    "   print (\"matchObj.group() : \", matchObj.group())\n",
    "   print (\"matchObj.group(1) : \", matchObj.group(1))\n",
    "   print (\"matchObj.group(2) : \", matchObj.group(2))\n",
    "\n",
    "else:\n",
    "   print (\"No match!!\")"
   ]
  },
  {
   "cell_type": "code",
   "execution_count": 8,
   "metadata": {},
   "outputs": [
    {
     "data": {
      "text/plain": [
       "'Mathematically, the convolution between an input image and a kernel is equivalent to Fourier filtering of the input image. \\nAsh ，In optics, the数学变换 and 反数学变换of an input light field containing the image information can be easily implemented by a 光学设备. A 设备designed according to the convolution kernel can be placed in the Fourier plane of the 光学设备. \\nPrevious works [37,88–901] demonstrate that such an 光学上的数学操作 can Acc significantly reduce the computational cost in a CNN. A generalized photonics tensor operation processor to perform convolution in the Fourier domain is further implemented in Ref. [91]. Alternatively, the convolution operation can be implemented in other ways such as 一种方案 [92], 方案 [93] or 方案 [82], and 方案 [44]. 2 3123 '"
      ]
     },
     "execution_count": 8,
     "metadata": {},
     "output_type": "execute_result"
    }
   ],
   "source": [
    "path = '/Users/hzh/Library/Mobile Documents/com~apple~CloudDocs/Python/学习程序/知识点/xx.txt'\n",
    "TxT =''\n",
    "with open(path) as f1:\n",
    "    txt  = f1.readlines()\n",
    "    for line in txt:\n",
    "        TxT = TxT+line\n",
    "\n",
    "TxT"
   ]
  },
  {
   "cell_type": "code",
   "execution_count": 9,
   "metadata": {},
   "outputs": [
    {
     "name": "stdout",
     "output_type": "stream",
     "text": [
      "4\n"
     ]
    }
   ],
   "source": [
    "Result = re.findall('to',TxT)\n",
    "print(len(Result))"
   ]
  },
  {
   "cell_type": "code",
   "execution_count": 10,
   "metadata": {},
   "outputs": [
    {
     "name": "stdout",
     "output_type": "stream",
     "text": [
      "['ath', 'ati', 'all', 'an ', 'age', 'and', 'a k', 'ale', 'age', 'and', 'an ', 'ain', 'age', 'ati', 'an ', 'asi', 'a 光', 'acc', 'an ', 'ace', 'ane', 'ate', 'at ', 'an ', 'an ', 'ant', 'ati', 'al ', 'a C', 'ali', 'ati', 'ain', 'ati', 'ati', 'an ', 'ays', 'as ', 'and']\n"
     ]
    }
   ],
   "source": [
    "Result = re.findall('a..',TxT)  # .代表一个字符 也就是 a开头后面接着两个字符\n",
    "print(Result) # 可以看出后面的空格也算在字符里面"
   ]
  },
  {
   "cell_type": "code",
   "execution_count": 11,
   "metadata": {},
   "outputs": [
    {
     "name": "stdout",
     "output_type": "stream",
     "text": [
      "['ath', 'ati', 'all', 'age', 'and', 'ale', 'age', 'and', 'ain', 'age', 'ati', 'asi', 'acc', 'ace', 'ane', 'ate', 'ant', 'ati', 'ali', 'ati', 'ain', 'ati', 'ati', 'ays', 'and']\n"
     ]
    }
   ],
   "source": [
    "Result = re.findall('a[a-z][a-z]',TxT)  # 指定第二个字符只能是英文\n",
    "print(Result)  # 比如ale ati 其实是把一个完整的单词分割了，如果我们需要的是一个完整的单词，那就需要再由操作"
   ]
  },
  {
   "cell_type": "code",
   "execution_count": 12,
   "metadata": {},
   "outputs": [
    {
     "name": "stdout",
     "output_type": "stream",
     "text": [
      "[' and ', ' and ', ' and ']\n"
     ]
    }
   ],
   "source": [
    "Result = re.findall(' a[a-z][a-z] ',TxT) # 左右加上空格\n",
    "print(Result)   # 可以看出我们出来的单词左右有空格"
   ]
  },
  {
   "cell_type": "code",
   "execution_count": 13,
   "metadata": {},
   "outputs": [
    {
     "name": "stdout",
     "output_type": "stream",
     "text": [
      "['and', 'and', 'and']\n"
     ]
    }
   ],
   "source": [
    "Result = re.findall(' (a[a-z][a-z]) ',TxT) # 加上小括号，说明只要保留中间的英文\n",
    "print(Result) "
   ]
  },
  {
   "cell_type": "code",
   "execution_count": 14,
   "metadata": {},
   "outputs": [
    {
     "name": "stdout",
     "output_type": "stream",
     "text": [
      "['and', 'and', 'Acc', 'and']\n"
     ]
    }
   ],
   "source": [
    "Result = re.findall(' ([Aa][a-z][a-z]) ',TxT) # 那就需要满足开头大小写都可以判断\n",
    "print(Result) "
   ]
  },
  {
   "cell_type": "code",
   "execution_count": 15,
   "metadata": {},
   "outputs": [
    {
     "name": "stdout",
     "output_type": "stream",
     "text": [
      "[('and', ''), ('', 'Ash'), ('and', ''), ('', 'Acc'), ('and', '')]\n"
     ]
    }
   ],
   "source": [
    "Result = re.findall(' ([a][a-z][a-z]) |([A][a-z][a-z]) ',TxT) #如果是句子开头，那开头就没有空格，并且开头大写\n",
    "print(Result) # 这会导致输出结果是两个语句判断结果"
   ]
  },
  {
   "cell_type": "code",
   "execution_count": 16,
   "metadata": {},
   "outputs": [
    {
     "name": "stdout",
     "output_type": "stream",
     "text": [
      "{'', 'Ash', 'and', 'Acc'}\n"
     ]
    }
   ],
   "source": [
    "final_result = set()\n",
    "for pair in Result:\n",
    "    for l in range(len(pair)):\n",
    "        final_result.add(pair[l])\n",
    "print(final_result)"
   ]
  },
  {
   "cell_type": "code",
   "execution_count": 17,
   "metadata": {},
   "outputs": [
    {
     "name": "stdout",
     "output_type": "stream",
     "text": [
      "['37', '88', '901', '91', '92', '93', '82', '44', '2', '3123']\n"
     ]
    }
   ],
   "source": [
    "# 查找数字\n",
    "result= re.findall('\\d+',TxT)\n",
    "print(result)"
   ]
  },
  {
   "cell_type": "code",
   "execution_count": 18,
   "metadata": {},
   "outputs": [
    {
     "name": "stdout",
     "output_type": "stream",
     "text": [
      "['37', '88', '90', '91', '92', '93', '82', '44', '31', '23']\n"
     ]
    }
   ],
   "source": [
    "result= re.findall('\\d{2}',TxT) # 只要两个数字， 901就变90\n",
    "print(result)"
   ]
  },
  {
   "cell_type": "code",
   "execution_count": 19,
   "metadata": {},
   "outputs": [
    {
     "name": "stdout",
     "output_type": "stream",
     "text": [
      "['37', '88', '90', '1', '91', '92', '93', '82', '44', '2', '31', '23']\n"
     ]
    }
   ],
   "source": [
    "result= re.findall('\\d{1,2}',TxT) # 只要两个数字， 901就变90\n",
    "print(result)"
   ]
  },
  {
   "cell_type": "code",
   "execution_count": 20,
   "metadata": {},
   "outputs": [
    {
     "name": "stdout",
     "output_type": "stream",
     "text": [
      "['input', 'kernel', 'input', 'input', 'field', 'image', 'easily', 'kernel', 'placed', 'plane', 'works', 'reduce', 'tensor', 'domain', 'other']\n"
     ]
    }
   ],
   "source": [
    "result= re.findall(' (\\w{5,6}) ',TxT) # 字母\n",
    "print(result)"
   ]
  },
  {
   "cell_type": "code",
   "execution_count": 21,
   "metadata": {},
   "outputs": [
    {
     "name": "stdout",
     "output_type": "stream",
     "text": [
      "['数', '学', '变', '换', '反', '数', '学', '变', '换', '光', '学', '设', '备', '设', '备', '光', '学', '设', '备', '光', '学', '上', '的', '数', '学', '操', '作', '一', '种', '方', '案', '方', '案', '方', '案', '方', '案']\n"
     ]
    }
   ],
   "source": [
    "result= re.findall('[\\u4e00-\\u9fa5]',TxT)  # 所有中文\n",
    "print(result)"
   ]
  },
  {
   "cell_type": "markdown",
   "metadata": {},
   "source": [
    ". 表示任何单个字符\n",
    "【】 字符集，对单个字符给出取值范围label表示a、b、c，la-zl表示a到z单个字符\n",
    "【^】 非字符集，对单个字符给出排除范围|“abel表示非a或b或c的单个字符\n",
    "* 前一个字符0次或无限次扩展abc*表示ab、abe、abcc、abccc等\n",
    "+ 前一个字符1次或无限次扩展abe+表示abc、abec、abccc等\n",
    "? 前一个字符0次或1次扩展abe？表示ab、abe\n",
    "| 左右表达式任意一个abcldef表示abe、def\n",
    "{m} 扩展前一个字符m次,ab{2}c表示abbe\n",
    "{m,n} 扩展前一个字符m至n次（含n）,ab{1，2}c表示abc、abbc\n",
    "^ 匹配字符串开头,abc表示abc且在一个字符串的开头\n",
    "$ 匹配字符串结尾,abe$表示abe且在一个字符串的结尾\n",
    "() 分组标记，内部只能使用|操作符（abc）表示abc，（abe|def）表示abe、def\n",
    "\\d 数字，等价于【0-9】\n",
    "\\w单词字符，等价于【A-Za-z0-9_】\n",
    "\t\t\t\n",
    "经典正则表达式实例\n",
    "\t^【A-Za-z】+$ 由26个字母组成的字符串\n",
    "\t^【A-Za-ze-9】+$ 由26个字母和数字组成的字符串\n",
    "\t^-?\\d+$ 整数形式的字符串\n",
    "\t^【0-9】*【1-9】【e-9】*$ 正整数形式的字符串\n",
    "\t【1-9】\\d{5}中国境内邮政编码，6位\n",
    "\t【\\u4e00-\\u9fa5】匹配中文字符\n",
    "\t\\d{3}-\\d{8}|\\d{4}-\\d{7}国内电话号码，010-68913536"
   ]
  },
  {
   "cell_type": "code",
   "execution_count": 22,
   "metadata": {},
   "outputs": [
    {
     "data": {
      "text/plain": [
       "'Mathematically, the convolution between an input image and a kernel is equivalent to Fourier filtering of the input image. \\nAsh ，In optics, the数学变换 and 反数学变换of an input light field containing the image information can be easily implemented by a 光学设备. A 设备designed according to the convolution kernel can be placed in the Fourier plane of the 光学设备. \\nPrevious works [37,88–901] demonstrate that such an 光学上的数学操作 can Acc significantly reduce the computational cost in a CNN. A generalized photonics tensor operation processor to perform convolution in the Fourier domain is further implemented in Ref. [91]. Alternatively, the convolution operation can be implemented in other ways such as 一种方案 [92], 方案 [93] or 方案 [82], and 方案 [44]. 2 3123 '"
      ]
     },
     "execution_count": 22,
     "metadata": {},
     "output_type": "execute_result"
    }
   ],
   "source": [
    "TxT"
   ]
  },
  {
   "cell_type": "code",
   "execution_count": 23,
   "metadata": {},
   "outputs": [
    {
     "name": "stdout",
     "output_type": "stream",
     "text": [
      "x=90,y=90\n"
     ]
    }
   ],
   "source": [
    "'''替换'''\n",
    "result = re.sub(r'\\d+','90','x=99,y=100')\n",
    "print(result)"
   ]
  },
  {
   "cell_type": "code",
   "execution_count": 24,
   "metadata": {},
   "outputs": [
    {
     "name": "stdout",
     "output_type": "stream",
     "text": [
      "x=100,y=101\n"
     ]
    }
   ],
   "source": [
    "def func(temp):\n",
    "    num = temp.group()\n",
    "    num1 = int(num)+1\n",
    "    return str(num1)\n",
    "\n",
    "result = re.sub(r'\\d+',func,'x=99,y=100')\n",
    "print(result)\n"
   ]
  },
  {
   "cell_type": "code",
   "execution_count": 25,
   "metadata": {},
   "outputs": [
    {
     "name": "stdout",
     "output_type": "stream",
     "text": [
      "Isaac Newton physicist\n",
      "Isaac\n",
      "Newton\n",
      "physicist\n",
      "('Isaac', 'Newton', 'physicist')\n"
     ]
    }
   ],
   "source": [
    "'''熟悉group（）里面涵盖什么'''\n",
    "m = re.match('(\\w+) (\\w+) (\\w+)', \"Isaac Newton physicist\")\n",
    "\n",
    "print(m.group(0))\n",
    "\n",
    "print(m.group(1))\n",
    "\n",
    "print(m.group(2))\n",
    "\n",
    "print(m.group(3))\n",
    "\n",
    "print(m.groups())\n"
   ]
  },
  {
   "cell_type": "code",
   "execution_count": 2,
   "metadata": {},
   "outputs": [
    {
     "data": {
      "text/plain": [
       "['晚上玩吃鸡游戏']"
      ]
     },
     "execution_count": 2,
     "metadata": {},
     "output_type": "execute_result"
    }
   ],
   "source": [
    "txt = '晚上玩吃鸡游戏，一起游戏，干嘛呢？ 打游戏呢。'\n",
    "re.findall('晚上.*?游戏',txt)   #。*？惰性匹配，？代表匹配的越少越好\n"
   ]
  },
  {
   "cell_type": "code",
   "execution_count": 3,
   "metadata": {},
   "outputs": [
    {
     "data": {
      "text/plain": [
       "['晚上玩吃鸡游戏，一起游戏，干嘛呢？ 打游戏']"
      ]
     },
     "execution_count": 3,
     "metadata": {},
     "output_type": "execute_result"
    }
   ],
   "source": [
    "re.findall('晚上.*游戏',txt)  # 。*贪婪匹配"
   ]
  },
  {
   "cell_type": "code",
   "execution_count": 9,
   "metadata": {},
   "outputs": [
    {
     "name": "stdout",
     "output_type": "stream",
     "text": [
      "游戏\n",
      "游戏\n",
      "游戏\n"
     ]
    }
   ],
   "source": [
    "# 当匹配的元素很多时用finditer ，他返回的是迭代器，和findall的list不同\n",
    "it = re.finditer('游戏',txt)\n",
    "for i in it:\n",
    "    print(i.group())"
   ]
  },
  {
   "cell_type": "code",
   "execution_count": 12,
   "metadata": {},
   "outputs": [
    {
     "data": {
      "text/plain": [
       "'游戏'"
      ]
     },
     "execution_count": 12,
     "metadata": {},
     "output_type": "execute_result"
    }
   ],
   "source": [
    "it = re.search('游戏',txt)  # search是match对象，并且只寻找一个\n",
    "it.group()"
   ]
  },
  {
   "cell_type": "code",
   "execution_count": 15,
   "metadata": {},
   "outputs": [
    {
     "name": "stdout",
     "output_type": "stream",
     "text": [
      "游戏\n",
      "游戏\n",
      "游戏\n"
     ]
    }
   ],
   "source": [
    "# 预加载正则模型\n",
    "obj = re.compile('游戏')\n",
    "it = obj.finditer(txt)\n",
    "for i in it:\n",
    "    print(i.group())"
   ]
  },
  {
   "cell_type": "code",
   "execution_count": null,
   "metadata": {},
   "outputs": [],
   "source": []
  }
 ],
 "metadata": {
  "interpreter": {
   "hash": "7c98f917436e91ad7f0c3d4f5d9b3df817d2512acd5c63c803caddd09106776b"
  },
  "kernelspec": {
   "display_name": "Python 3.8.6 ('tfpy39')",
   "language": "python",
   "name": "python3"
  },
  "language_info": {
   "codemirror_mode": {
    "name": "ipython",
    "version": 3
   },
   "file_extension": ".py",
   "mimetype": "text/x-python",
   "name": "python",
   "nbconvert_exporter": "python",
   "pygments_lexer": "ipython3",
   "version": "3.8.6"
  },
  "orig_nbformat": 4
 },
 "nbformat": 4,
 "nbformat_minor": 2
}
