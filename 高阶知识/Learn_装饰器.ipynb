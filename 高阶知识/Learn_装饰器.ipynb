{
 "cells": [
  {
   "cell_type": "code",
   "execution_count": 24,
   "metadata": {},
   "outputs": [
    {
     "name": "stdout",
     "output_type": "stream",
     "text": [
      "now you are inside the hi() function\n",
      "now you are in the greet() function\n",
      "now you are in the welcome() function\n",
      "now you are back in the hi() function\n"
     ]
    }
   ],
   "source": [
    "def hi(name=\"yasoob\"):\n",
    "    print(\"now you are inside the hi() function\")\n",
    " \n",
    "    def greet():\n",
    "        return \"now you are in the greet() function\"\n",
    " \n",
    "    def welcome():\n",
    "        return \"now you are in the welcome() function\"\n",
    " \n",
    "    print(greet())\n",
    "    print(welcome())\n",
    "    print(\"now you are back in the hi() function\")\n",
    " \n",
    "hi()\n",
    " \n"
   ]
  },
  {
   "cell_type": "code",
   "execution_count": 25,
   "metadata": {},
   "outputs": [
    {
     "ename": "NameError",
     "evalue": "name 'greet' is not defined",
     "output_type": "error",
     "traceback": [
      "\u001b[0;31m---------------------------------------------------------------------------\u001b[0m",
      "\u001b[0;31mNameError\u001b[0m                                 Traceback (most recent call last)",
      "\u001b[1;32m/Users/hzh/Library/Mobile Documents/com~apple~CloudDocs/Python/学习程序/Python语法/其他/Learn_装饰器.ipynb Cell 2'\u001b[0m in \u001b[0;36m<module>\u001b[0;34m\u001b[0m\n\u001b[0;32m----> <a href='vscode-notebook-cell:/Users/hzh/Library/Mobile%20Documents/com~apple~CloudDocs/Python/%E5%AD%A6%E4%B9%A0%E7%A8%8B%E5%BA%8F/Python%E8%AF%AD%E6%B3%95/%E5%85%B6%E4%BB%96/Learn_%E8%A3%85%E9%A5%B0%E5%99%A8.ipynb#ch0000001?line=0'>1</a>\u001b[0m greet()\n",
      "\u001b[0;31mNameError\u001b[0m: name 'greet' is not defined"
     ]
    }
   ],
   "source": [
    "greet() # 内部的不能调用 会报错"
   ]
  },
  {
   "cell_type": "code",
   "execution_count": null,
   "metadata": {},
   "outputs": [
    {
     "name": "stdout",
     "output_type": "stream",
     "text": [
      "before executing a_func()\n",
      "I am the function which needs some decoration\n",
      "after executing a_func()\n"
     ]
    }
   ],
   "source": [
    "def a_new_decorator(a_func):\n",
    " \n",
    "    def wrapTheFunction():\n",
    "        print(\"before executing a_func()\")\n",
    " \n",
    "        a_func()\n",
    " \n",
    "        print(\"after executing a_func()\")\n",
    " \n",
    "    return wrapTheFunction\n",
    "\n",
    "@a_new_decorator\n",
    "def a_function_requiring_decoration():\n",
    "    \"\"\"Hey you! Decorate me!\"\"\"\n",
    "    print(\"I am the function which needs some decoration\")\n",
    " \n",
    "a_function_requiring_decoration()\n"
   ]
  },
  {
   "cell_type": "code",
   "execution_count": null,
   "metadata": {},
   "outputs": [
    {
     "name": "stdout",
     "output_type": "stream",
     "text": [
      "before executing a_func()\n",
      "before executing a_func()\n",
      "before executing a_func()\n",
      "before executing a_func()\n",
      "before executing a_func()\n",
      "I am the function which needs some decoration\n",
      "after executing a_func()\n",
      "after executing a_func()\n",
      "after executing a_func()\n",
      "after executing a_func()\n",
      "after executing a_func()\n"
     ]
    }
   ],
   "source": [
    "a_function_requiring_decoration = a_new_decorator(a_function_requiring_decoration)\n",
    "a_function_requiring_decoration()"
   ]
  },
  {
   "cell_type": "code",
   "execution_count": 32,
   "metadata": {},
   "outputs": [
    {
     "name": "stdout",
     "output_type": "stream",
     "text": [
      "我的成绩是： 99\n",
      "99 及格\n"
     ]
    }
   ],
   "source": [
    "num = 99\n",
    "\n",
    "\n",
    "def decorator(a_func):\n",
    "\n",
    "    def wrapTheFunction1(num):\n",
    "\n",
    "        print(num, '不及格')\n",
    "    \n",
    "    def wrapTheFunction2(num):\n",
    "\n",
    "        print(num, '及格')\n",
    "    \n",
    "    if a_func(num) >60:\n",
    "        return wrapTheFunction2\n",
    "    else:\n",
    "        return wrapTheFunction1\n",
    "\n",
    "\n",
    "\n",
    "@decorator\n",
    "def score(num):\n",
    "    print(\"我的成绩是：\", num)\n",
    "    return num\n",
    "\n",
    "score(num)"
   ]
  },
  {
   "cell_type": "code",
   "execution_count": 10,
   "metadata": {},
   "outputs": [
    {
     "name": "stdout",
     "output_type": "stream",
     "text": [
      "0.19280791282653809\n"
     ]
    }
   ],
   "source": [
    "import time\n",
    "#找出质数\n",
    "\n",
    "\n",
    "\n",
    "def is_prime(n):\n",
    "    if n<2:\n",
    "        return False\n",
    "    elif n==2:\n",
    "        return True\n",
    "    else:\n",
    "        for i in range(2,n):\n",
    "            if n%i ==0:\n",
    "                return False\n",
    "        return True\n",
    "\n",
    "def num():\n",
    "    t1 = time.time()\n",
    "    for i in range(2,10000):\n",
    "        if is_prime(i):\n",
    "            pass\n",
    "        \n",
    "    t2 = time.time()\n",
    "    print(t2-t1)\n",
    "\n",
    "\n",
    "num()"
   ]
  },
  {
   "cell_type": "code",
   "execution_count": 11,
   "metadata": {},
   "outputs": [
    {
     "name": "stdout",
     "output_type": "stream",
     "text": [
      "0.19196200370788574\n"
     ]
    }
   ],
   "source": [
    "# 用装饰器后\n",
    "\n",
    "\n",
    "def display_time(func):\n",
    "    def wrapper():\n",
    "        t1 = time.time()\n",
    "        func()\n",
    "        t2 = time.time()\n",
    "        print(t2-t1)\n",
    "    return wrapper\n",
    "\n",
    "def is_prime(n):\n",
    "    if n<2:\n",
    "        return False\n",
    "    elif n==2:\n",
    "        return True\n",
    "    else:\n",
    "        for i in range(2,n):\n",
    "            if n%i ==0:\n",
    "                return False\n",
    "        return True\n",
    "\n",
    "@display_time\n",
    "def num():\n",
    "    for i in range(2,10000):\n",
    "        if is_prime(i):\n",
    "            pass\n",
    "        \n",
    "\n",
    "\n",
    "num()"
   ]
  },
  {
   "cell_type": "code",
   "execution_count": 12,
   "metadata": {},
   "outputs": [
    {
     "name": "stdout",
     "output_type": "stream",
     "text": [
      "0.20450472831726074\n"
     ]
    },
    {
     "data": {
      "text/plain": [
       "1229"
      ]
     },
     "execution_count": 12,
     "metadata": {},
     "output_type": "execute_result"
    }
   ],
   "source": [
    "# 如果有返回\n",
    "def display_time(func):\n",
    "    def wrapper():\n",
    "        t1 = time.time()\n",
    "        result = func()\n",
    "        t2 = time.time()\n",
    "        print(t2-t1)\n",
    "        return result\n",
    "    return wrapper\n",
    "\n",
    "def is_prime(n):\n",
    "    if n<2:\n",
    "        return False\n",
    "    elif n==2:\n",
    "        return True\n",
    "    else:\n",
    "        for i in range(2,n):\n",
    "            if n%i ==0:\n",
    "                return False\n",
    "        return True\n",
    "\n",
    "@display_time\n",
    "def count_num():\n",
    "    count = 0\n",
    "    for i in range(2,10000):\n",
    "        if is_prime(i):\n",
    "            count+=1\n",
    "    return count\n",
    "\n",
    "count_num() "
   ]
  },
  {
   "cell_type": "code",
   "execution_count": 13,
   "metadata": {},
   "outputs": [
    {
     "name": "stdout",
     "output_type": "stream",
     "text": [
      "0.00014519691467285156\n"
     ]
    },
    {
     "data": {
      "text/plain": [
       "46"
      ]
     },
     "execution_count": 13,
     "metadata": {},
     "output_type": "execute_result"
    }
   ],
   "source": [
    "# 如果带参数\n",
    "\n",
    "def display_time(func):\n",
    "    def wrapper(maxium):\n",
    "        t1 = time.time()\n",
    "        result = func(maxium)\n",
    "        t2 = time.time()\n",
    "        print(t2-t1)\n",
    "        return result\n",
    "    return wrapper\n",
    "\n",
    "def is_prime(n):\n",
    "    if n<2:\n",
    "        return False\n",
    "    elif n==2:\n",
    "        return True\n",
    "    else:\n",
    "        for i in range(2,n):\n",
    "            if n%i ==0:\n",
    "                return False\n",
    "        return True\n",
    "\n",
    "@display_time\n",
    "def count_num(maxium):\n",
    "    count = 0\n",
    "    for i in range(2,maxium):\n",
    "        if is_prime(i):\n",
    "            count+=1\n",
    "    return count\n",
    "\n",
    "count_num(maxium=200) \n"
   ]
  },
  {
   "cell_type": "code",
   "execution_count": 14,
   "metadata": {},
   "outputs": [
    {
     "name": "stdout",
     "output_type": "stream",
     "text": [
      "刷10面\n",
      "我2020-1-1日期拿到了房子，是毛坯房\n",
      "刷100面\n",
      "xx路\n"
     ]
    }
   ],
   "source": [
    "'''带参数装饰器需要为三层'''\n",
    "\n",
    "def decorate_out(a):   #第一层：负责接收装饰器参数\n",
    "\n",
    "    def decorate_inner(func):  #第二层：负责接收函数\n",
    "\n",
    "        def wrapper(*args,**kwargs):    #第三层：负责接收函数的参数\n",
    "            print('刷{}面'.format(a))\n",
    "            func(*args,**kwargs)\n",
    "\n",
    "        return wrapper   #返回出来第三层\n",
    "\n",
    "    return decorate_inner    #返回出来第二层\n",
    "\n",
    "@decorate_out(10)\n",
    "def house(time):\n",
    "    print('我{}日期拿到了房子，是毛坯房'.format(time))\n",
    "\n",
    "@decorate_out(100)\n",
    "def street():\n",
    "    print('xx路')\n",
    "\n",
    "house('2020-1-1')\n",
    "street()"
   ]
  },
  {
   "cell_type": "code",
   "execution_count": 15,
   "metadata": {},
   "outputs": [
    {
     "name": "stdout",
     "output_type": "stream",
     "text": [
      "2start\n",
      "2end\n",
      "1start\n",
      "1end\n",
      "毛坯房\n",
      "刷墙\n",
      "铺地板\n"
     ]
    }
   ],
   "source": [
    "def decorate1(func):\n",
    "    print('1start')\n",
    "    def wrapper1():\n",
    "        func()\n",
    "        print('铺地板')\n",
    "\n",
    "    print('1end')\n",
    "    return wrapper1\n",
    "\n",
    "\n",
    "def decorate2(func):\n",
    "    print('2start')\n",
    "    def wrapper2():\n",
    "        func()\n",
    "        print('刷墙')\n",
    "\n",
    "    print('2end')\n",
    "    return wrapper2\n",
    "\n",
    "\n",
    "'''就近原则,先使用decorate2'''\n",
    "@decorate1\n",
    "@decorate2\n",
    "def house():\n",
    "    print('毛坯房')\n",
    "\n",
    "house()"
   ]
  },
  {
   "cell_type": "code",
   "execution_count": 16,
   "metadata": {},
   "outputs": [
    {
     "name": "stdout",
     "output_type": "stream",
     "text": [
      "f1 2\n",
      "f2 hzh 23\n",
      "f3 ([1, 2, 3, 4],) {'room': 203, 'floor': 2}\n"
     ]
    }
   ],
   "source": [
    "def decorate(func):\n",
    "    def wrapper(*args,**kwargs):\n",
    "        func(*args,**kwargs)\n",
    "    return wrapper\n",
    "\n",
    "\n",
    "@decorate\n",
    "def f1(num):\n",
    "    print('f1',num)\n",
    "\n",
    "@decorate\n",
    "def f2(name,age):\n",
    "    print('f2',name,age)\n",
    "\n",
    "@decorate\n",
    "def f3(*list1,**k):\n",
    "    print('f3',list1,k)\n",
    "\n",
    "\n",
    "f1(2) #执行的是wrapper\n",
    "f2('hzh',23)\n",
    "jj=[1,2,3,4]\n",
    "f3(jj,room = 203, floor =2)"
   ]
  },
  {
   "cell_type": "code",
   "execution_count": 59,
   "metadata": {},
   "outputs": [
    {
     "name": "stdout",
     "output_type": "stream",
     "text": [
      "0.00400996208190918 178\n"
     ]
    }
   ],
   "source": [
    "import torch\n",
    "import time\n",
    "\n",
    "def time_cost(model):\n",
    "    total = 0\n",
    "    def wrapper(*args,**kwargs):\n",
    "        nonlocal total \n",
    "        t_start = time.time()\n",
    "        model(*args,**kwargs)\n",
    "        t_end = time.time()\n",
    "        t_cost = t_end-t_start\n",
    "        total += t_cost\n",
    "        return total\n",
    "    return wrapper\n",
    "\n",
    "@time_cost\n",
    "def model(output,label,loss,index):\n",
    "    loss = loss(output,label)\n",
    "    # print(loss,index)\n",
    "\n",
    "index = 1\n",
    "while True:\n",
    "    output = torch.rand(4,1,10,10)\n",
    "    label = torch.rand(4,1,10,10)\n",
    "    loss = torch.nn.MSELoss()\n",
    "    total = model(output,label,loss,index)\n",
    "    index +=1\n",
    "    \n",
    "    if total>0.004:\n",
    "        print(total,index)\n",
    "        break\n"
   ]
  },
  {
   "cell_type": "code",
   "execution_count": 66,
   "metadata": {},
   "outputs": [
    {
     "name": "stdout",
     "output_type": "stream",
     "text": [
      "tensor(0.1719) 1\n",
      "0.001096963882446289\n",
      "tensor(0.1819) 2\n",
      "0.002488851547241211\n",
      "tensor(0.1766) 3\n",
      "0.002934694290161133\n",
      "tensor(0.1645) 4\n",
      "0.003342866897583008\n"
     ]
    }
   ],
   "source": [
    "import torch\n",
    "\n",
    "\n",
    "def time_cost(model):\n",
    "    total = 0\n",
    "    def wrapper(*args,**kwargs):\n",
    "        nonlocal total \n",
    "        t_start = time.time()\n",
    "        model(*args,**kwargs)\n",
    "        t_end = time.time()\n",
    "        t_cost = t_end-t_start\n",
    "        total += t_cost\n",
    "        return total\n",
    "    return wrapper\n",
    "        \n",
    "@time_cost\n",
    "def model(output,label,loss,index):\n",
    "    loss = loss(output,label)\n",
    "    print(loss,index)\n",
    "\n",
    "\n",
    "index = 1\n",
    "while True:\n",
    "    output = torch.rand(4,1,10,10)\n",
    "    label = torch.rand(4,1,10,10)\n",
    "    loss = torch.nn.MSELoss()\n",
    "    total = model(output,label,loss,index)\n",
    "    index +=1\n",
    "    print(total)\n",
    "    if total>0.003:\n",
    "        break\n"
   ]
  },
  {
   "cell_type": "markdown",
   "metadata": {},
   "source": [
    "## 装饰器的背景\n",
    "如果我们要计算一个模型的运行时间"
   ]
  },
  {
   "cell_type": "markdown",
   "metadata": {},
   "source": [
    "### 1.传统方法"
   ]
  },
  {
   "cell_type": "code",
   "execution_count": 165,
   "metadata": {},
   "outputs": [
    {
     "name": "stdout",
     "output_type": "stream",
     "text": [
      "loss: 0.16687795519828796\n",
      "0.01788496971130371\n"
     ]
    }
   ],
   "source": [
    "import time\n",
    "\n",
    "def model(output,label,loss):\n",
    "    loss = loss(output,label).item()\n",
    "    print('loss:',loss)\n",
    "\n",
    "def cost_time(Model):\n",
    "    def warpper(*args,**kwargs):\n",
    "        t_start = time.time()\n",
    "        Model(*args,**kwargs)\n",
    "        t_end = time.time()\n",
    "        t_cost = t_end-t_start\n",
    "        return t_cost\n",
    "    return warpper\n",
    "\n",
    "output = torch.rand(4,10,100,100)\n",
    "label = torch.rand(4,10,100,100)\n",
    "loss = torch.nn.MSELoss()\n",
    "\n",
    "\n",
    "# cost_time(model) = warpper\n",
    "# t_cost = warpper(output,label,loss) \n",
    "t_cost = cost_time(model)(output,label,loss) \n",
    "print(t_cost)"
   ]
  },
  {
   "cell_type": "code",
   "execution_count": 164,
   "metadata": {},
   "outputs": [
    {
     "name": "stdout",
     "output_type": "stream",
     "text": [
      "loss: 0.1667369306087494\n",
      "0.0004980564117431641\n"
     ]
    }
   ],
   "source": [
    "def model(output,label,loss):\n",
    "    loss = loss(output,label).item()\n",
    "    print('loss:',loss)\n",
    "\n",
    "\n",
    "output = torch.rand(4,10,100,100)\n",
    "label = torch.rand(4,10,100,100)\n",
    "loss = torch.nn.MSELoss()\n",
    "\n",
    "t_start = time.time()\n",
    "model(output,label,loss)\n",
    "t_end = time.time()\n",
    "t_cost = t_end-t_start\n",
    "\n",
    "\n",
    "print(t_cost)"
   ]
  },
  {
   "cell_type": "code",
   "execution_count": 170,
   "metadata": {},
   "outputs": [
    {
     "name": "stdout",
     "output_type": "stream",
     "text": [
      "loss: 0.16746796667575836\n",
      "0.0005199909210205078\n"
     ]
    }
   ],
   "source": [
    "\n",
    "\n",
    "def model(output,label,loss):\n",
    "    loss = loss(output,label).item()\n",
    "    print('loss:',loss)\n",
    "\n",
    "\n",
    "output = torch.rand(4,10,100,100)\n",
    "label = torch.rand(4,10,100,100)\n",
    "loss = torch.nn.MSELoss()\n",
    "\n",
    "def cost_time(Model):\n",
    "    t_start = time.time()\n",
    "    Model(output,label,loss)\n",
    "    t_end = time.time()\n",
    "    t_cost = t_end-t_start\n",
    "    return t_cost\n",
    "\n",
    "# cost_time(model) = warpper\n",
    "# t_cost = warpper(output,label,loss) \n",
    "t_cost = cost_time(model )\n",
    "print(t_cost)"
   ]
  },
  {
   "cell_type": "markdown",
   "metadata": {},
   "source": [
    "### 2.使用装饰器"
   ]
  },
  {
   "cell_type": "code",
   "execution_count": 151,
   "metadata": {},
   "outputs": [
    {
     "name": "stdout",
     "output_type": "stream",
     "text": [
      "loss: 0.16684550046920776\n",
      "0.0009171962738037109\n",
      "warpper\n"
     ]
    }
   ],
   "source": [
    "import time\n",
    "\n",
    "\n",
    "def cost_time(Model):\n",
    "    def warpper(*args,**kwargs):\n",
    "        t_start = time.time()\n",
    "        Model(*args,**kwargs)\n",
    "        t_end = time.time()\n",
    "        t_cost = t_end-t_start\n",
    "        return t_cost\n",
    "    return warpper\n",
    "\n",
    "output = torch.rand(4,10,100,100)\n",
    "label = torch.rand(4,10,100,100)\n",
    "loss = torch.nn.MSELoss()\n",
    "\n",
    "\n",
    "\n",
    "@cost_time   # 做了 cost_time(model) return warpper,使得 model = warpper\n",
    "def model(output,label,loss):\n",
    "    loss = loss(output,label).item()\n",
    "    print('loss:',loss)\n",
    "\n",
    "\n",
    "t_cost = model(output,label,loss)\n",
    "print(t_cost)\n",
    "\n",
    "\n",
    "\n",
    "\n",
    "#这时候我们想要看model的函数名，但是由于装饰器的原因，模型名字被warpper取代了，\n",
    "# 它重写了我们函数的名字和注释文档(docstring)，\n",
    "# 所以我们用functools.wraps来修改例子\n",
    "print(model.__name__)"
   ]
  },
  {
   "cell_type": "code",
   "execution_count": 171,
   "metadata": {},
   "outputs": [
    {
     "name": "stdout",
     "output_type": "stream",
     "text": [
      "loss: 0.16609105467796326\n",
      "0.0020112991333007812\n",
      "model\n"
     ]
    }
   ],
   "source": [
    "from functools import wraps\n",
    "import time\n",
    "\n",
    "\n",
    "def cost_time(Model):\n",
    "    @wraps(Model)   # 这里使用\n",
    "    def warpper(*args,**kwargs):\n",
    "        t_start = time.time()\n",
    "        Model(*args,**kwargs)\n",
    "        t_end = time.time()\n",
    "        t_cost = t_end-t_start\n",
    "        return t_cost\n",
    "    return warpper\n",
    "\n",
    "output = torch.rand(4,10,100,100)\n",
    "label = torch.rand(4,10,100,100)\n",
    "loss = torch.nn.MSELoss()\n",
    "\n",
    "\n",
    "\n",
    "@cost_time   # 做了 cost_time(model) return warpper,使得 model = warpper\n",
    "def model(output,label,loss):\n",
    "    loss = loss(output,label).item()\n",
    "    print('loss:',loss)\n",
    "\n",
    "\n",
    "t_cost = model(output,label,loss)\n",
    "print(t_cost)\n",
    "\n",
    "print(model.__name__) # 这时候模型名就是我们想要的model了"
   ]
  }
 ],
 "metadata": {
  "kernelspec": {
   "display_name": "Python 3.8.6 ('tfpy39')",
   "language": "python",
   "name": "python3"
  },
  "language_info": {
   "codemirror_mode": {
    "name": "ipython",
    "version": 3
   },
   "file_extension": ".py",
   "mimetype": "text/x-python",
   "name": "python",
   "nbconvert_exporter": "python",
   "pygments_lexer": "ipython3",
   "version": "3.8.6"
  },
  "orig_nbformat": 4,
  "vscode": {
   "interpreter": {
    "hash": "4d3128507b5a4621a20c2b29f37ac078f0ce925796d459584332777f346d4420"
   }
  }
 },
 "nbformat": 4,
 "nbformat_minor": 2
}
