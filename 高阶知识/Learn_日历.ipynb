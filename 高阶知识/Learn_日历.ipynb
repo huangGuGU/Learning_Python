{
 "cells": [
  {
   "cell_type": "code",
   "execution_count": 14,
   "metadata": {},
   "outputs": [
    {
     "name": "stdout",
     "output_type": "stream",
     "text": [
      "   December 2022\n",
      "Mo Tu We Th Fr Sa Su\n",
      "          1  2  3  4\n",
      " 5  6  7  8  9 10 11\n",
      "12 13 14 15 16 17 18\n",
      "19 20 21 22 23 24 25\n",
      "26 27 28 29 30 31\n",
      "\n"
     ]
    }
   ],
   "source": [
    "import calendar\n",
    " \n",
    "year = 2022\n",
    "month = 12\n",
    "print(calendar.month(year,month))"
   ]
  },
  {
   "cell_type": "code",
   "execution_count": 15,
   "metadata": {},
   "outputs": [
    {
     "data": {
      "text/plain": [
       "['   December 2022',\n",
       " 'Mo Tu We Th Fr Sa Su',\n",
       " '          1  2  3  4',\n",
       " ' 5  6  7  8  9 10 11',\n",
       " '12 13 14 15 16 17 18',\n",
       " '19 20 21 22 23 24 25',\n",
       " '26 27 28 29 30 31',\n",
       " '']"
      ]
     },
     "execution_count": 15,
     "metadata": {},
     "output_type": "execute_result"
    }
   ],
   "source": [
    "day_list = calendar.month(year,month)\n",
    "day_list = day_list.split('\\n')\n",
    "day_list"
   ]
  },
  {
   "cell_type": "code",
   "execution_count": 16,
   "metadata": {},
   "outputs": [
    {
     "data": {
      "text/plain": [
       "'Mo Tu We Th Fr Sa Su'"
      ]
     },
     "execution_count": 16,
     "metadata": {},
     "output_type": "execute_result"
    }
   ],
   "source": [
    "day_list[1]"
   ]
  },
  {
   "cell_type": "code",
   "execution_count": 17,
   "metadata": {},
   "outputs": [
    {
     "data": {
      "text/plain": [
       "['', '', '', '', '', '', '', '', '', '', '1', '', '2', '', '3', '', '4']"
      ]
     },
     "execution_count": 17,
     "metadata": {},
     "output_type": "execute_result"
    }
   ],
   "source": [
    "day_list[2].split(' ')"
   ]
  },
  {
   "cell_type": "code",
   "execution_count": 9,
   "metadata": {},
   "outputs": [
    {
     "data": {
      "text/plain": [
       "' 7  8  9 10 11 12 13'"
      ]
     },
     "execution_count": 9,
     "metadata": {},
     "output_type": "execute_result"
    }
   ],
   "source": [
    "day_list[3]"
   ]
  },
  {
   "cell_type": "code",
   "execution_count": 19,
   "metadata": {},
   "outputs": [
    {
     "data": {
      "text/plain": [
       "(3, 31)"
      ]
     },
     "execution_count": 19,
     "metadata": {},
     "output_type": "execute_result"
    }
   ],
   "source": [
    "calendar.monthrange(year, month)"
   ]
  },
  {
   "cell_type": "code",
   "execution_count": 23,
   "metadata": {},
   "outputs": [
    {
     "data": {
      "text/plain": [
       "0"
      ]
     },
     "execution_count": 23,
     "metadata": {},
     "output_type": "execute_result"
    }
   ],
   "source": [
    "calendar.MONDAY"
   ]
  },
  {
   "cell_type": "code",
   "execution_count": 24,
   "metadata": {},
   "outputs": [
    {
     "data": {
      "text/plain": [
       "4"
      ]
     },
     "execution_count": 24,
     "metadata": {},
     "output_type": "execute_result"
    }
   ],
   "source": [
    "calendar.FRIDAY"
   ]
  },
  {
   "cell_type": "code",
   "execution_count": 118,
   "metadata": {},
   "outputs": [],
   "source": []
  },
  {
   "cell_type": "code",
   "execution_count": 155,
   "metadata": {},
   "outputs": [],
   "source": [
    "# 获取某年某月是周几\n",
    "from datetime import datetime\n",
    "import numpy as np\n",
    "import pandas as pd\n",
    "year = input('年份：')\n",
    "month = input('月份：')\n",
    "path = r'/Users/hzh/Desktop/today.xlsx'\n",
    "# year = \"2022\"\n",
    "# month = \"11\"\n",
    "name_list = [\"周几\",'嵇友鹏','吴明珠','成意','黄桂锋',\"龙向东\"]\n",
    "maxday = int(calendar.monthrange(2022,11)[1]) # 当月的天数\n",
    "today_array = np.zeros((len(name_list),maxday))\n",
    "\n",
    "\n",
    "for day in range(1,maxday+1):\n",
    "    week = datetime.strptime(f\"{year}{month}{day}\",\"%Y%m%d\").weekday()+1\n",
    "    today_array[0,day-1] = week\n",
    "    if week in [1,2,3,4,5]:\n",
    "        for a in [2,3]:\n",
    "            today_array[a,day-1] =1\n",
    "            today_array[a,day-1] =1\n",
    "    else:\n",
    "        for a in [2,3]:\n",
    "            today_array[1,day-1] =0\n",
    "            today_array[3,day-1] =0\n",
    "    \n",
    "    for b in [1,4]:\n",
    "        today_array[b,:] =0\n",
    "        today_array[b,:] =0\n",
    "\n",
    "    \n",
    "dataFrame= pd.DataFrame(today_array,index=name_list,columns=np.arange(1,maxday+1))\n",
    "\n",
    "\n",
    "\n",
    "with pd.ExcelWriter(path) as writer:\n",
    "    dataFrame.to_excel(writer, sheet_name=f'{year} {month}')"
   ]
  },
  {
   "cell_type": "code",
   "execution_count": 124,
   "metadata": {},
   "outputs": [
    {
     "name": "stdout",
     "output_type": "stream",
     "text": [
      "    A       B       C\n",
      "    a   b   c   d   e\n",
      "0   0   1   2   3   4\n",
      "1   5   6   7   8   9\n",
      "2  10  11  12  13  14\n",
      "3  15  16  17  18  19\n",
      "4  20  21  22  23  24\n",
      "5  25  26  27  28  29\n",
      "6  30  31  32  33  34\n",
      "7  35  36  37  38  39\n",
      "8  40  41  42  43  44\n",
      "9  45  46  47  48  49\n"
     ]
    }
   ],
   "source": [
    "import pandas as pd\n",
    "import numpy as np\n",
    " \n",
    "columns = [['A', 'A', 'B', 'B', 'C'], ['a', 'b', 'c', 'd', 'e']]\n",
    "# 创建形状为（10，5） 的DataFrame 并设置二级标题\n",
    "demo_df = pd.DataFrame(np.arange(50).reshape(10, 5), columns=columns)\n",
    "print(demo_df)\n",
    " \n",
    "def style_color(df, colors):\n",
    "  \"\"\"\n",
    "  \n",
    "  :param df: pd.DataFrame\n",
    "  :param colors: 字典 内容是 {标题:颜色}\n",
    "  :return: \n",
    "  \"\"\"\n",
    "  return df.style.apply(style_apply, colors=colors)\n",
    " \n",
    "def style_apply(series, colors, back_ground=''):\n",
    "  \"\"\"\n",
    "  :param series: 传过来的数据是DataFramt中的一列  类型为pd.Series\n",
    "  :param colors: 内容是字典 其中key 为标题名  value 为颜色\n",
    "  :param back_ground: 北京颜色\n",
    "  :return:\n",
    "  \"\"\"\n",
    "  series_name = series.name[0]\n",
    "  a = list()\n",
    "  # 为了给每一个单元格上色\n",
    "  for col in series:\n",
    "    # 其中 col 为pd.DataFrame 中的 一个小单元格  大家可以根据不同需求为单元格设置不同的颜色\n",
    "    # 获取什么一级标题获取什么颜色\n",
    "    if series_name in colors:\n",
    "      for title_name in colors:\n",
    "        if title_name == series_name:\n",
    "          back_ground = 'background-color: ' + colors[title_name]\n",
    "          # '; border-left-color: #080808'\n",
    "    a.append(back_ground)\n",
    "  return a\n",
    " \n",
    "style_df = style_color(demo_df, {\"A\": '#1C1C1C', \"B\": '#00EEEE', \"C\": '#1A1A1A'})\n",
    " \n",
    "with pd.ExcelWriter('/Users/hzh/Desktop/t.xlsx', engine='openpyxl') as writer:\n",
    "  #注意： 二级标题的to_excel index 不能为False\n",
    "  style_df.to_excel(writer, sheet_name='sheet_name')\n"
   ]
  },
  {
   "cell_type": "code",
   "execution_count": null,
   "metadata": {},
   "outputs": [],
   "source": []
  }
 ],
 "metadata": {
  "kernelspec": {
   "display_name": "Python 3.8.6 64-bit ('tfpy39')",
   "language": "python",
   "name": "python3"
  },
  "language_info": {
   "codemirror_mode": {
    "name": "ipython",
    "version": 3
   },
   "file_extension": ".py",
   "mimetype": "text/x-python",
   "name": "python",
   "nbconvert_exporter": "python",
   "pygments_lexer": "ipython3",
   "version": "3.8.6 | packaged by conda-forge | (default, Jan 25 2021, 22:55:00) \n[Clang 11.0.1 ]"
  },
  "orig_nbformat": 4,
  "vscode": {
   "interpreter": {
    "hash": "7c98f917436e91ad7f0c3d4f5d9b3df817d2512acd5c63c803caddd09106776b"
   }
  }
 },
 "nbformat": 4,
 "nbformat_minor": 2
}
