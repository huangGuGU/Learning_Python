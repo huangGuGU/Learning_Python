{
 "cells": [
  {
   "cell_type": "code",
   "execution_count": 1,
   "metadata": {},
   "outputs": [],
   "source": [
    "import time"
   ]
  },
  {
   "cell_type": "code",
   "execution_count": 2,
   "metadata": {},
   "outputs": [
    {
     "name": "stdout",
     "output_type": "stream",
     "text": [
      "1656828936.362286\n"
     ]
    }
   ],
   "source": [
    "print(time.time())"
   ]
  },
  {
   "cell_type": "code",
   "execution_count": 3,
   "metadata": {},
   "outputs": [
    {
     "name": "stdout",
     "output_type": "stream",
     "text": [
      "time.struct_time(tm_year=2022, tm_mon=7, tm_mday=3, tm_hour=14, tm_min=16, tm_sec=28, tm_wday=6, tm_yday=184, tm_isdst=0)\n"
     ]
    }
   ],
   "source": [
    "print (time.localtime( time.time() ))"
   ]
  },
  {
   "cell_type": "code",
   "execution_count": 4,
   "metadata": {},
   "outputs": [
    {
     "name": "stdout",
     "output_type": "stream",
     "text": [
      "Sun Jul  3 14:16:50 2022\n"
     ]
    }
   ],
   "source": [
    "print (time.asctime( time.localtime(time.time()) ))"
   ]
  },
  {
   "cell_type": "code",
   "execution_count": 7,
   "metadata": {},
   "outputs": [
    {
     "ename": "AttributeError",
     "evalue": "'time.struct_time' object has no attribute 'localtime'",
     "output_type": "error",
     "traceback": [
      "\u001b[0;31m---------------------------------------------------------------------------\u001b[0m",
      "\u001b[0;31mAttributeError\u001b[0m                            Traceback (most recent call last)",
      "\u001b[1;32m/Users/hzh/Library/Mobile Documents/com~apple~CloudDocs/Python/学习程序/知识点/深度学习知识/Learn_time.ipynb Cell 5'\u001b[0m in \u001b[0;36m<module>\u001b[0;34m\u001b[0m\n\u001b[0;32m----> <a href='vscode-notebook-cell:/Users/hzh/Library/Mobile%20Documents/com~apple~CloudDocs/Python/%E5%AD%A6%E4%B9%A0%E7%A8%8B%E5%BA%8F/%E7%9F%A5%E8%AF%86%E7%82%B9/%E6%B7%B1%E5%BA%A6%E5%AD%A6%E4%B9%A0%E7%9F%A5%E8%AF%86/Learn_time.ipynb#ch0000004?line=0'>1</a>\u001b[0m time \u001b[39m=\u001b[39m time\u001b[39m.\u001b[39;49mlocaltime(time\u001b[39m.\u001b[39mtime())\n\u001b[1;32m      <a href='vscode-notebook-cell:/Users/hzh/Library/Mobile%20Documents/com~apple~CloudDocs/Python/%E5%AD%A6%E4%B9%A0%E7%A8%8B%E5%BA%8F/%E7%9F%A5%E8%AF%86%E7%82%B9/%E6%B7%B1%E5%BA%A6%E5%AD%A6%E4%B9%A0%E7%9F%A5%E8%AF%86/Learn_time.ipynb#ch0000004?line=1'>2</a>\u001b[0m time\u001b[39m.\u001b[39mstruct_time()\n",
      "\u001b[0;31mAttributeError\u001b[0m: 'time.struct_time' object has no attribute 'localtime'"
     ]
    }
   ],
   "source": [
    "time = time.localtime(time.time())\n",
    "time.struct_time()"
   ]
  },
  {
   "cell_type": "code",
   "execution_count": 8,
   "metadata": {},
   "outputs": [
    {
     "name": "stdout",
     "output_type": "stream",
     "text": [
      "func start\n",
      "func end\n",
      "coast:1.0018s\n"
     ]
    }
   ],
   "source": [
    "import time\n",
    "\n",
    "\n",
    "def func():\n",
    "    print('func start')\n",
    "    time.sleep(1)\n",
    "    print('func end')\n",
    "\n",
    "\n",
    "t = time.time()\n",
    "func()\n",
    "print(f'coast:{time.time() - t:.4f}s')\n",
    "\n",
    "\n"
   ]
  },
  {
   "cell_type": "code",
   "execution_count": 9,
   "metadata": {},
   "outputs": [
    {
     "name": "stdout",
     "output_type": "stream",
     "text": [
      "func start\n",
      "func end\n",
      "coast:0.00009458s\n"
     ]
    }
   ],
   "source": [
    "import time\n",
    "\n",
    "\n",
    "def func():\n",
    "    print('func start')\n",
    "    # time.sleep(1)\n",
    "    print('func end')\n",
    "\n",
    "\n",
    "t = time.perf_counter()\n",
    "func()\n",
    "print(f'coast:{time.perf_counter() - t:.8f}s')\n"
   ]
  },
  {
   "cell_type": "code",
   "execution_count": 12,
   "metadata": {},
   "outputs": [
    {
     "name": "stdout",
     "output_type": "stream",
     "text": [
      "func start\n",
      "func end\n",
      "func test coast time:41.32627096 s\n"
     ]
    }
   ],
   "source": [
    "import time\n",
    "\n",
    "\n",
    "def coast_time(func):\n",
    "    def fun(*args, **kwargs):\n",
    "        t = time.perf_counter()\n",
    "        result = func(*args, **kwargs)\n",
    "        print(f'func {func.__name__} coast time:{time.perf_counter() - t:.8f} s')\n",
    "        return result\n",
    "\n",
    "    return fun\n",
    "\n",
    "\n",
    "@coast_time\n",
    "def test():\n",
    "    print('func start')\n",
    "    time.sleep(2)\n",
    "    print('func end')\n",
    "\n",
    "\n",
    "if __name__ == '__main__':\n",
    "    test()\n"
   ]
  },
  {
   "cell_type": "code",
   "execution_count": 19,
   "metadata": {},
   "outputs": [
    {
     "data": {
      "text/plain": [
       "8.294976"
      ]
     },
     "execution_count": 19,
     "metadata": {},
     "output_type": "execute_result"
    }
   ],
   "source": [
    "n =120*120\n",
    "param = ((n+1)*n)*4\n",
    "param/(1e8)"
   ]
  },
  {
   "cell_type": "code",
   "execution_count": 20,
   "metadata": {},
   "outputs": [
    {
     "data": {
      "text/plain": [
       "1.65888"
      ]
     },
     "execution_count": 20,
     "metadata": {},
     "output_type": "execute_result"
    }
   ],
   "source": [
    "(2*n)*n*4/(1e9)"
   ]
  },
  {
   "cell_type": "code",
   "execution_count": 21,
   "metadata": {},
   "outputs": [
    {
     "data": {
      "text/plain": [
       "5.76"
      ]
     },
     "execution_count": 21,
     "metadata": {},
     "output_type": "execute_result"
    }
   ],
   "source": [
    "#onn\n",
    "param = n*4 \n",
    "param/(1e4)"
   ]
  },
  {
   "cell_type": "code",
   "execution_count": 17,
   "metadata": {},
   "outputs": [
    {
     "data": {
      "text/plain": [
       "2.0736"
      ]
     },
     "execution_count": 17,
     "metadata": {},
     "output_type": "execute_result"
    }
   ],
   "source": [
    "n*n/(1e8)"
   ]
  },
  {
   "cell_type": "code",
   "execution_count": null,
   "metadata": {},
   "outputs": [],
   "source": [
    "ime模块\n",
    "\n",
    "获取当前的时间戳\n",
    "\n",
    "import time\n",
    "time.time() # 返回的是当前的时间戳; 如果想取一个整数则 int(time.time())\n",
    "#  获取毫秒级别的时间戳\n",
    "int(round(time.time() * 1000))\n",
    "将字符串的时间转为时间戳\n",
    "\n",
    "import time\n",
    "str_time = \"2019-6-28 11:54:10\"\n",
    "# 将时间字符串转成时间数组\n",
    "# 第一个参数就是时间字符串; 第二个就是转换的一些字符串\n",
    "time_array = time.strptime(str_time, \"%Y-%m-%d %H:%M:%S\") \n",
    "# 转换为时间戳\n",
    "time_stamp = time.mktime(time_array) # 可以转化为int类型\n",
    "\n",
    "字符串格式更改\n",
    "\n",
    "\"2019-6-28 13:42:00\" 改为 \"2019/6/28 13:42:00\"\n",
    "# 先转换为时间数组\n",
    "import time\n",
    "str_time = \"2019-6-28 13:42:00\"\n",
    "time_array = time.strptime(str_time, \"%Y-%m-%d %H:%M:%S\")\n",
    "other_way_time = time.strftime(\"%Y/%m/%d %H:%M:%S\", time_array)\n",
    "时间戳转换为指定日期\n",
    "\n",
    "time_stamp = 1561700872\n",
    "# 使用localtime()转换为时间数组,在格式化自己想要的格式\n",
    "import time\n",
    "time_array = time.localtime(time_stamp)\n",
    "other_way_time = time.strftime(\"%Y-%m-%d %H:%M:%S\", time_array)\n",
    "import datetime\n",
    "time_stamp = 1561700872\n",
    "datetime_array = datetime.datetime.utcfromtimestamp(time_stamp)\n",
    "other_way_time = datetime_array.strftime(\"%Y-%m-%d %H:%M:%S\")\n",
    "获取三天前的时间\n",
    "\n",
    "import time\n",
    "import datetime\n",
    "# 先获得时间数组格式的日期\n",
    "three_day_ago = (datetime.datetime.now() - datetime.timedelta(days=3))\n",
    "# 转换为时间戳\n",
    "time_stamp = int(time.mktime(three_day_ago.timetuple()))\n",
    "# 转换为其他形式的字符串\n",
    "other_way_time = three_day_ago.strftime(\"%Y-%m-%d %H:%M:%S\")"
   ]
  }
 ],
 "metadata": {
  "kernelspec": {
   "display_name": "Python 3.8.6 ('tfpy39')",
   "language": "python",
   "name": "python3"
  },
  "language_info": {
   "codemirror_mode": {
    "name": "ipython",
    "version": 3
   },
   "file_extension": ".py",
   "mimetype": "text/x-python",
   "name": "python",
   "nbconvert_exporter": "python",
   "pygments_lexer": "ipython3",
   "version": "3.8.6"
  },
  "orig_nbformat": 4,
  "vscode": {
   "interpreter": {
    "hash": "4d3128507b5a4621a20c2b29f37ac078f0ce925796d459584332777f346d4420"
   }
  }
 },
 "nbformat": 4,
 "nbformat_minor": 2
}
