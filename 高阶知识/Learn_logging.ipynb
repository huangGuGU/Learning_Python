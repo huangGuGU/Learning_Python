{
 "cells": [
  {
   "cell_type": "code",
   "execution_count": 1,
   "metadata": {},
   "outputs": [
    {
     "name": "stderr",
     "output_type": "stream",
     "text": [
      "2022-07-06 17:16:06,753 - 705248725.py[line:28] - WARNING: 这是 logger warning message\n",
      "2022-07-06 17:16:06,753 - 705248725.py[line:29] - ERROR: 这是 logger error message\n",
      "2022-07-06 17:16:06,754 - 705248725.py[line:30] - CRITICAL: 这是 logger critical message\n"
     ]
    }
   ],
   "source": [
    "import logging\n",
    "\n",
    "# 第一步，创建一个logger\n",
    "logger = logging.getLogger()\n",
    "logger.setLevel(logging.INFO)  # Log等级总开关  此时是INFO\n",
    "\n",
    "# 第二步，创建一个handler，用于写入日志文件\n",
    "logfile = './log.txt'\n",
    "fh = logging.FileHandler(logfile, mode='a')  # open的打开模式这里可以进行参考\n",
    "fh.setLevel(logging.DEBUG)  # 输出到file的log等级的开关\n",
    "\n",
    "# 第三步，再创建一个handler，用于输出到控制台\n",
    "ch = logging.StreamHandler()\n",
    "ch.setLevel(logging.WARNING)   # 输出到console的log等级的开关\n",
    "\n",
    "# 第四步，定义handler的输出格式（时间，文件，行数，错误级别，错误提示）\n",
    "formatter = logging.Formatter(\"%(asctime)s - %(filename)s[line:%(lineno)d] - %(levelname)s: %(message)s\")\n",
    "fh.setFormatter(formatter)\n",
    "ch.setFormatter(formatter)\n",
    "\n",
    "# 第五步，将logger添加到handler里面\n",
    "logger.addHandler(fh)\n",
    "logger.addHandler(ch)\n",
    "\n",
    "# 日志级别\n",
    "logger.debug('这是 logger debug message')\n",
    "logger.info('这是 logger info message')\n",
    "logger.warning('这是 logger warning message')\n",
    "logger.error('这是 logger error message')\n",
    "logger.critical('这是 logger critical message')"
   ]
  },
  {
   "cell_type": "code",
   "execution_count": null,
   "metadata": {},
   "outputs": [],
   "source": []
  }
 ],
 "metadata": {
  "kernelspec": {
   "display_name": "Python 3.8.6 64-bit ('tfpy39')",
   "language": "python",
   "name": "python3"
  },
  "language_info": {
   "codemirror_mode": {
    "name": "ipython",
    "version": 3
   },
   "file_extension": ".py",
   "mimetype": "text/x-python",
   "name": "python",
   "nbconvert_exporter": "python",
   "pygments_lexer": "ipython3",
   "version": "3.8.6"
  },
  "orig_nbformat": 4,
  "vscode": {
   "interpreter": {
    "hash": "7c98f917436e91ad7f0c3d4f5d9b3df817d2512acd5c63c803caddd09106776b"
   }
  }
 },
 "nbformat": 4,
 "nbformat_minor": 2
}
