{
 "cells": [
  {
   "cell_type": "markdown",
   "source": [
    "## @property\n",
    "让方法可以像属性一样访问\n",
    "\n",
    "由于python进行属性的定义时，没办法设置私有属性，因此要通过@property的方法来进行设置。这样可以隐藏属性名，让用户进行使用的时候无法随意修改。"
   ],
   "metadata": {
    "collapsed": false
   }
  },
  {
   "cell_type": "code",
   "execution_count": 25,
   "outputs": [
    {
     "name": "stdout",
     "output_type": "stream",
     "text": [
      "year2016month8day1\n",
      "2016\n"
     ]
    }
   ],
   "source": [
    "class Data(object):\n",
    "    day=0\n",
    "    month=0\n",
    "    year=0\n",
    "    def __init__(self,year=0,month=0,day=0):\n",
    "        self.day=day\n",
    "        self.month=month\n",
    "        self.year=year\n",
    "\n",
    "    @property # #方法加入@property后，这个方法相当于一个属性，这个属性可以让用户进行使用，而且用户有没办法随意修改。\n",
    "    def out_date(self):\n",
    "        string = 'year'+str(self.year)+'month'+str(self.month)+'day'+str(self.day)\n",
    "        return string\n",
    "\n",
    "    @property\n",
    "    def out_year(self):\n",
    "        return self.year\n",
    "\n",
    "\n",
    "t=Data(2016,8,1)\n",
    "print(t.out_date) # 不需要加括号，因为认为他只是一个属性\n",
    "print(t.out_year) # #用户进行属性调用的时候，直接调用out_year即可，而不用知道属性名year"
   ],
   "metadata": {
    "collapsed": false,
    "ExecuteTime": {
     "start_time": "2023-05-25T11:31:04.503381Z",
     "end_time": "2023-05-25T11:31:04.509145Z"
    }
   }
  },
  {
   "cell_type": "markdown",
   "source": [
    "## @classmethod\n",
    "把类的方法变成类方法"
   ],
   "metadata": {
    "collapsed": false
   }
  },
  {
   "cell_type": "code",
   "execution_count": 14,
   "metadata": {
    "collapsed": true,
    "ExecuteTime": {
     "start_time": "2023-05-25T11:22:53.970794Z",
     "end_time": "2023-05-25T11:22:53.973518Z"
    }
   },
   "outputs": [
    {
     "name": "stdout",
     "output_type": "stream",
     "text": [
      "year 2016 month 8 day 1\n"
     ]
    }
   ],
   "source": [
    "class Data(object):\n",
    "    day=0\n",
    "    month=0\n",
    "    year=0\n",
    "    def __init__(self,year=0,month=0,day=0):\n",
    "        self.day=day\n",
    "        self.month=month\n",
    "        self.year=year\n",
    "    @classmethod\n",
    "    def split(cls,word): # cls， 表示调用当前的类名\n",
    "        word = word.split('-')\n",
    "        yy,mm,dd = map(int,word)\n",
    "        word = cls(yy,mm,dd) # 给当前类填入__init__参数\n",
    "        return word\n",
    "\n",
    "    def out_date(self):\n",
    "        print('year',self.year,'month',self.month,'day',self.day,)\n",
    "\n",
    "\n",
    "t=Data.split(\"2016-8-1\") # t就是对类的实例化\n",
    "\n",
    "t.out_date()"
   ]
  },
  {
   "cell_type": "code",
   "execution_count": 15,
   "outputs": [
    {
     "name": "stdout",
     "output_type": "stream",
     "text": [
      "year 2016 month 8 day 1\n"
     ]
    }
   ],
   "source": [
    "class Data(object):\n",
    "    day=0\n",
    "    month=0\n",
    "    year=0\n",
    "    def __init__(self,year=0,month=0,day=0):\n",
    "        self.day=day\n",
    "        self.month=month\n",
    "        self.year=year\n",
    "\n",
    "    def out_date(self):\n",
    "        print('year',self.year,'month',self.month,'day',self.day,)\n",
    "\n",
    "\n",
    "# 不改变原来的类，通过继承来实现\n",
    "class process(Data):\n",
    "    @classmethod\n",
    "    def split(cls,word):\n",
    "        word = word.split('-')\n",
    "        yy,mm,dd = map(int,word)\n",
    "        word = cls(yy,mm,dd)\n",
    "        return word\n",
    "\n",
    "t=process.split(\"2016-8-1\") # t就是对类的实例化\n",
    "\n",
    "t.out_date()"
   ],
   "metadata": {
    "collapsed": false,
    "ExecuteTime": {
     "start_time": "2023-05-25T11:22:54.483480Z",
     "end_time": "2023-05-25T11:22:54.485744Z"
    }
   }
  }
 ],
 "metadata": {
  "kernelspec": {
   "display_name": "Python 3",
   "language": "python",
   "name": "python3"
  },
  "language_info": {
   "codemirror_mode": {
    "name": "ipython",
    "version": 2
   },
   "file_extension": ".py",
   "mimetype": "text/x-python",
   "name": "python",
   "nbconvert_exporter": "python",
   "pygments_lexer": "ipython2",
   "version": "2.7.6"
  }
 },
 "nbformat": 4,
 "nbformat_minor": 0
}
