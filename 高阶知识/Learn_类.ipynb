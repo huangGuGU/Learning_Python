{
 "cells": [
  {
   "cell_type": "code",
   "execution_count": 2,
   "metadata": {},
   "outputs": [],
   "source": [
    "class Animal():\n",
    "    def run(self):\n",
    "        print('Animal is running')"
   ]
  },
  {
   "cell_type": "code",
   "execution_count": 17,
   "metadata": {},
   "outputs": [
    {
     "name": "stdout",
     "output_type": "stream",
     "text": [
      "Cat is running\n"
     ]
    }
   ],
   "source": [
    "class Cat(Animal): # 继承\n",
    "    def run(self):\n",
    "        print('Cat is running')\n",
    "cat = Cat() # 创建实例\n",
    "cat.run()"
   ]
  },
  {
   "cell_type": "code",
   "execution_count": 10,
   "metadata": {},
   "outputs": [
    {
     "name": "stdout",
     "output_type": "stream",
     "text": [
      "True\n",
      "True\n"
     ]
    }
   ],
   "source": [
    "# 继承下来，所以类型是一样的\n",
    "print(isinstance(cat, Animal))\n",
    "print(isinstance(cat, Cat))\n"
   ]
  },
  {
   "cell_type": "code",
   "execution_count": 19,
   "metadata": {},
   "outputs": [
    {
     "name": "stdout",
     "output_type": "stream",
     "text": [
      "Animal is running\n",
      "Animal is running\n",
      "Cat is running\n",
      "Cat is running\n"
     ]
    }
   ],
   "source": [
    "def run_twice(animal):\n",
    "    animal.run()\n",
    "    animal.run()\n",
    "\n",
    "\n",
    "run_twice(Animal())\n",
    "run_twice(Cat()) # Cat改写了父类Animal的run函数，这就是多态"
   ]
  },
  {
   "cell_type": "code",
   "execution_count": 24,
   "metadata": {},
   "outputs": [
    {
     "name": "stdout",
     "output_type": "stream",
     "text": [
      "Animal run\n",
      "Cat run\n",
      "Dog run\n"
     ]
    }
   ],
   "source": [
    "# 多态改写\n",
    "class Whorun:\n",
    "    def run(self,who):\n",
    "        who.run()\n",
    "class Animal:\n",
    "    def run(self):\n",
    "        print(\"Animal run\")\n",
    "\n",
    "class Dog(Animal):\n",
    "    def run(self):\n",
    "        print(\"Dog run\")\n",
    "\n",
    "class Cat(Animal):\n",
    "    def run(self):\n",
    "        print(\"Cat run\")\n",
    "a = Whorun()\n",
    "\n",
    "a.run(Animal())\n",
    "\n",
    "a.run(Cat())\n",
    "\n",
    "a.run(Dog())"
   ]
  },
  {
   "cell_type": "code",
   "execution_count": 1,
   "metadata": {},
   "outputs": [
    {
     "data": {
      "text/plain": [
       "60"
      ]
     },
     "execution_count": 1,
     "metadata": {},
     "output_type": "execute_result"
    }
   ],
   "source": [
    "# @property 将一个方法变成了一个属性\n",
    "class Student(object):\n",
    "\n",
    "    @property   #等于是做getter\n",
    "    def score(self):\n",
    "        return self._score\n",
    "\n",
    "    @score.setter   #等于是做setter\n",
    "    def score(self, value):\n",
    "        if not isinstance(value, int):\n",
    "            raise ValueError('score must be an integer!')\n",
    "        if value < 0 or value > 100:\n",
    "            raise ValueError('score must between 0 ~ 100!')\n",
    "        self._score = value\n",
    "\n",
    "s = Student()\n",
    "s.score = 60\n",
    "s.score"
   ]
  },
  {
   "cell_type": "markdown",
   "metadata": {},
   "source": [
    "## super()\n",
    "super() 函数是用于调用父类(超类)的一个方法。\n",
    "super() 是用来解决多重继承问题的，直接用类名调用父类方法在使用单继承的时候没问题，但是如果使用多继承，会涉及到查找顺序（MRO）、重复调用（钻石继承）等种种问题。"
   ]
  },
  {
   "cell_type": "code",
   "execution_count": 1,
   "metadata": {},
   "outputs": [
    {
     "name": "stdout",
     "output_type": "stream",
     "text": [
      "3\n"
     ]
    }
   ],
   "source": [
    "class A:\n",
    "     def add(self, x):\n",
    "         y = x+1\n",
    "         print(y)\n",
    "class B(A):\n",
    "    def add(self, x):\n",
    "        super().add(x)\n",
    "b = B()\n",
    "b.add(2)"
   ]
  },
  {
   "cell_type": "code",
   "execution_count": null,
   "metadata": {},
   "outputs": [
    {
     "ename": "",
     "evalue": "",
     "output_type": "error",
     "traceback": [
      "\u001b[1;31mFailed to start the Kernel. \n",
      "The 'python386jvsc74a57bd07c98f917436e91ad7f0c3d4f5d9b3df817d2512acd5c63c803caddd09106776b' kernel is not available. Please pick another suitable kernel instead, or install that kernel. \n",
      "View Jupyter <a href='command:jupyter.viewOutput'>log</a> for further details."
     ]
    }
   ],
   "source": [
    "class FooParent(object):\n",
    "    def __init__(self):\n",
    "        self.parent = 'I\\'m the parent.'\n",
    "        print ('Parent')\n",
    "    \n",
    "    def bar(self,message):\n",
    "        print (\"%s from Parent\" % message)\n",
    " \n",
    "class FooChild(FooParent):\n",
    "    def __init__(self):\n",
    "        # super(FooChild,self) 首先找到 FooChild 的父类（就是类 FooParent），然后把类 FooChild 的对象转换为类 FooParent 的对象\n",
    "        super(FooChild,self).__init__()    \n",
    "        print ('Child')\n",
    "        \n",
    "    def bar(self,message):\n",
    "        super(FooChild, self).bar(message)\n",
    "        print ('Child bar fuction')\n",
    "        print (self.parent)\n",
    " \n",
    "\n",
    "fooChild = FooChild()\n",
    "fooChild.bar('HelloWorld')"
   ]
  },
  {
   "cell_type": "markdown",
   "metadata": {},
   "source": [
    "## 学习重构魔术方法"
   ]
  },
  {
   "cell_type": "code",
   "execution_count": 29,
   "metadata": {},
   "outputs": [],
   "source": [
    "# 实现一个分数的class\n",
    "\n",
    "class Fraction:\n",
    "    def __init__ (self,top,bottom):\n",
    "        self.num = top\n",
    "        self.den = bottom\n",
    "\n",
    "    def show(self):\n",
    "        print(self.num,\"/\",self.den)\n",
    "    \n",
    "    def __eq__(self,other):  #重写了eq方法，使得比较的是两个数字的值 这时候是深相等，原来的eq是判断是否为同一个对象的引用\n",
    "        firstnum = self.num*other.den\n",
    "        secondtnum = self.den*other.num\n",
    "        return firstnum==secondtnum\n",
    "\n",
    "    def __str__(self):    \n",
    "        return str(self.num) + \"/\" + str(self.den)"
   ]
  },
  {
   "cell_type": "code",
   "execution_count": 30,
   "metadata": {},
   "outputs": [
    {
     "name": "stdout",
     "output_type": "stream",
     "text": [
      "3 / 4\n"
     ]
    }
   ],
   "source": [
    "F1 = Fraction(3,4)\n",
    "F1.show()\n"
   ]
  },
  {
   "cell_type": "code",
   "execution_count": 31,
   "metadata": {},
   "outputs": [
    {
     "name": "stdout",
     "output_type": "stream",
     "text": [
      "3/4\n"
     ]
    }
   ],
   "source": [
    "print(str(F1))"
   ]
  },
  {
   "cell_type": "code",
   "execution_count": 21,
   "metadata": {},
   "outputs": [
    {
     "data": {
      "text/plain": [
       "True"
      ]
     },
     "execution_count": 21,
     "metadata": {},
     "output_type": "execute_result"
    }
   ],
   "source": [
    "F2 = Fraction(3,4)\n",
    "F1==F2"
   ]
  },
  {
   "cell_type": "code",
   "execution_count": null,
   "metadata": {},
   "outputs": [],
   "source": []
  }
 ],
 "metadata": {
  "kernelspec": {
   "display_name": "Python 3.8.6 ('tfpy39')",
   "language": "python",
   "name": "python3"
  },
  "language_info": {
   "codemirror_mode": {
    "name": "ipython",
    "version": 3
   },
   "file_extension": ".py",
   "mimetype": "text/x-python",
   "name": "python",
   "nbconvert_exporter": "python",
   "pygments_lexer": "ipython3",
   "version": "3.8.6"
  },
  "orig_nbformat": 4,
  "vscode": {
   "interpreter": {
    "hash": "4d3128507b5a4621a20c2b29f37ac078f0ce925796d459584332777f346d4420"
   }
  }
 },
 "nbformat": 4,
 "nbformat_minor": 2
}
