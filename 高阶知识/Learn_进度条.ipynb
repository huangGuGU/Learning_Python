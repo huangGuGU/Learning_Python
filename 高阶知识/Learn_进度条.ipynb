{
 "cells": [
  {
   "cell_type": "code",
   "execution_count": 1,
   "metadata": {
    "collapsed": true,
    "ExecuteTime": {
     "start_time": "2023-06-07T15:46:47.547308Z",
     "end_time": "2023-06-07T15:46:59.986644Z"
    }
   },
   "outputs": [
    {
     "name": "stderr",
     "output_type": "stream",
     "text": [
      "100%|██████████| 1000/1000 [00:12<00:00, 80.54it/s]\n"
     ]
    }
   ],
   "source": [
    "import time\n",
    "from tqdm import *\n",
    "for i in tqdm(range(1000)):\n",
    "    time.sleep(.01)    #进度条每0.01s前进一次，总时间为1000*0.01=10s\n"
   ]
  },
  {
   "cell_type": "code",
   "execution_count": 4,
   "outputs": [
    {
     "name": "stderr",
     "output_type": "stream",
     "text": [
      "100%|██████████| 100/100 [00:00<00:00, 2006844.02it/s]\n"
     ]
    }
   ],
   "source": [
    "from tqdm import trange\n",
    "for i in trange(100):\n",
    "    pass"
   ],
   "metadata": {
    "collapsed": false,
    "ExecuteTime": {
     "start_time": "2023-06-07T15:49:28.412581Z",
     "end_time": "2023-06-07T15:49:28.417453Z"
    }
   }
  },
  {
   "cell_type": "code",
   "execution_count": 17,
   "outputs": [
    {
     "name": "stderr",
     "output_type": "stream",
     "text": [
      "100%|██████████| 200/200 [00:02<00:00, 85.18it/s]\n",
      "Processing d: 100%|██████████| 4/4 [00:04<00:00,  1.01s/it]\n"
     ]
    }
   ],
   "source": [
    "pbar = tqdm([\"a\", \"b\", \"c\", \"d\"])\n",
    "for char in pbar:\n",
    "    # 设置描述\n",
    "    pbar.set_description(\"Processing %s\" % char)\n",
    "    time.sleep(1)"
   ],
   "metadata": {
    "collapsed": false,
    "ExecuteTime": {
     "start_time": "2023-06-07T15:58:53.638691Z",
     "end_time": "2023-06-07T15:58:57.672909Z"
    }
   }
  },
  {
   "cell_type": "code",
   "execution_count": 21,
   "outputs": [
    {
     "name": "stderr",
     "output_type": "stream",
     "text": [
      "100%|██████████| 200/200 [00:05<00:00, 36.15it/s]\n",
      "100%|██████████| 200/200 [00:01<00:00, 95.60it/s] "
     ]
    }
   ],
   "source": [
    "# 一共200个，每次更新10，一共更新20次\n",
    "pbar = tqdm(total=200)\n",
    "for i in range(20):\n",
    "    pbar.update(10)\n",
    "    time.sleep(0.1)"
   ],
   "metadata": {
    "collapsed": false,
    "ExecuteTime": {
     "start_time": "2023-06-07T15:59:06.861120Z",
     "end_time": "2023-06-07T15:59:08.960805Z"
    }
   }
  },
  {
   "cell_type": "code",
   "execution_count": 20,
   "outputs": [
    {
     "name": "stderr",
     "output_type": "stream",
     "text": [
      "                                      \r\n",
      "  0%|          | 0/10 [00:00<?, ?it/s]           \n",
      " 20%|██        | 2/10 [00:00<00:00,  9.37it/s]/s]\u001B[A"
     ]
    },
    {
     "name": "stdout",
     "output_type": "stream",
     "text": [
      "Done task 0\n"
     ]
    },
    {
     "name": "stderr",
     "output_type": "stream",
     "text": [
      "                                              \r\n",
      " 30%|███       | 3/10 [00:00<00:00,  9.41it/s]   \n",
      " 50%|█████     | 5/10 [00:00<00:00,  9.38it/s]/s]\u001B[A"
     ]
    },
    {
     "name": "stdout",
     "output_type": "stream",
     "text": [
      "Done task 3\n"
     ]
    },
    {
     "name": "stderr",
     "output_type": "stream",
     "text": [
      "                                              \r\n",
      " 60%|██████    | 6/10 [00:00<00:00,  9.40it/s]   \n",
      " 80%|████████  | 8/10 [00:00<00:00,  9.36it/s]/s]\u001B[A"
     ]
    },
    {
     "name": "stdout",
     "output_type": "stream",
     "text": [
      "Done task 6\n"
     ]
    },
    {
     "name": "stderr",
     "output_type": "stream",
     "text": [
      "                                              \r\n",
      " 90%|█████████ | 9/10 [00:01<00:00,  9.46it/s]   \n",
      "100%|██████████| 10/10 [00:01<00:00,  9.36it/s]s]\u001B[A"
     ]
    },
    {
     "name": "stdout",
     "output_type": "stream",
     "text": [
      "Done task 9\n"
     ]
    },
    {
     "name": "stderr",
     "output_type": "stream",
     "text": [
      "\n"
     ]
    }
   ],
   "source": [
    "bar = trange(10)\n",
    "for i in bar:\n",
    "    time.sleep(0.1)\n",
    "    if not (i % 3):\n",
    "        tqdm.write(\"Done task %i\" % i)\n"
   ],
   "metadata": {
    "collapsed": false,
    "ExecuteTime": {
     "start_time": "2023-06-07T15:59:04.100532Z",
     "end_time": "2023-06-07T15:59:05.173683Z"
    }
   }
  },
  {
   "cell_type": "code",
   "execution_count": null,
   "outputs": [],
   "source": [],
   "metadata": {
    "collapsed": false
   }
  }
 ],
 "metadata": {
  "kernelspec": {
   "display_name": "Python 3",
   "language": "python",
   "name": "python3"
  },
  "language_info": {
   "codemirror_mode": {
    "name": "ipython",
    "version": 2
   },
   "file_extension": ".py",
   "mimetype": "text/x-python",
   "name": "python",
   "nbconvert_exporter": "python",
   "pygments_lexer": "ipython2",
   "version": "2.7.6"
  }
 },
 "nbformat": 4,
 "nbformat_minor": 0
}
