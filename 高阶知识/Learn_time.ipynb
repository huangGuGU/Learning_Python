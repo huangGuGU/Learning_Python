{
 "cells": [
  {
   "cell_type": "code",
   "execution_count": null,
   "metadata": {},
   "outputs": [
    {
     "ename": "",
     "evalue": "",
     "output_type": "error",
     "traceback": [
      "\u001b[1;31mFailed to start the Kernel. \n",
      "Kernel tfpy39 (Python 3.8.6) is not usable. Check the Jupyter output tab for more information. \n",
      "View Jupyter <a href='command:jupyter.viewOutput'>log</a> for further details."
     ]
    }
   ],
   "source": [
    "import time"
   ]
  },
  {
   "cell_type": "code",
   "execution_count": 2,
   "metadata": {},
   "outputs": [
    {
     "name": "stdout",
     "output_type": "stream",
     "text": [
      "1656828936.362286\n"
     ]
    }
   ],
   "source": [
    "print(time.time())"
   ]
  },
  {
   "cell_type": "code",
   "execution_count": 3,
   "metadata": {},
   "outputs": [
    {
     "name": "stdout",
     "output_type": "stream",
     "text": [
      "time.struct_time(tm_year=2022, tm_mon=7, tm_mday=3, tm_hour=14, tm_min=16, tm_sec=28, tm_wday=6, tm_yday=184, tm_isdst=0)\n"
     ]
    }
   ],
   "source": [
    "print (time.localtime( time.time() ))"
   ]
  },
  {
   "cell_type": "code",
   "execution_count": 4,
   "metadata": {},
   "outputs": [
    {
     "name": "stdout",
     "output_type": "stream",
     "text": [
      "Sun Jul  3 14:16:50 2022\n"
     ]
    }
   ],
   "source": [
    "print (time.asctime( time.localtime(time.time()) ))"
   ]
  },
  {
   "cell_type": "code",
   "execution_count": 7,
   "metadata": {},
   "outputs": [
    {
     "ename": "AttributeError",
     "evalue": "'time.struct_time' object has no attribute 'localtime'",
     "output_type": "error",
     "traceback": [
      "\u001b[0;31m---------------------------------------------------------------------------\u001b[0m",
      "\u001b[0;31mAttributeError\u001b[0m                            Traceback (most recent call last)",
      "\u001b[1;32m/Users/hzh/Library/Mobile Documents/com~apple~CloudDocs/Python/学习程序/知识点/深度学习知识/Learn_time.ipynb Cell 5'\u001b[0m in \u001b[0;36m<module>\u001b[0;34m\u001b[0m\n\u001b[0;32m----> <a href='vscode-notebook-cell:/Users/hzh/Library/Mobile%20Documents/com~apple~CloudDocs/Python/%E5%AD%A6%E4%B9%A0%E7%A8%8B%E5%BA%8F/%E7%9F%A5%E8%AF%86%E7%82%B9/%E6%B7%B1%E5%BA%A6%E5%AD%A6%E4%B9%A0%E7%9F%A5%E8%AF%86/Learn_time.ipynb#ch0000004?line=0'>1</a>\u001b[0m time \u001b[39m=\u001b[39m time\u001b[39m.\u001b[39;49mlocaltime(time\u001b[39m.\u001b[39mtime())\n\u001b[1;32m      <a href='vscode-notebook-cell:/Users/hzh/Library/Mobile%20Documents/com~apple~CloudDocs/Python/%E5%AD%A6%E4%B9%A0%E7%A8%8B%E5%BA%8F/%E7%9F%A5%E8%AF%86%E7%82%B9/%E6%B7%B1%E5%BA%A6%E5%AD%A6%E4%B9%A0%E7%9F%A5%E8%AF%86/Learn_time.ipynb#ch0000004?line=1'>2</a>\u001b[0m time\u001b[39m.\u001b[39mstruct_time()\n",
      "\u001b[0;31mAttributeError\u001b[0m: 'time.struct_time' object has no attribute 'localtime'"
     ]
    }
   ],
   "source": [
    "time = time.localtime(time.time())\n",
    "time.struct_time()"
   ]
  },
  {
   "cell_type": "markdown",
   "metadata": {},
   "source": [
    "FLOPs of 4-layer D2NN are 0.83G, the number of parameters is 0.043Mand the reasoning time is 0.19ps, while FLOPs of multilayer perceptron are 1.24G, the number of parameters is 622M, and the reasoning time is 0.0008s."
   ]
  },
  {
   "cell_type": "code",
   "execution_count": 1,
   "metadata": {},
   "outputs": [
    {
     "data": {
      "text/plain": [
       "6.221232"
      ]
     },
     "execution_count": 1,
     "metadata": {},
     "output_type": "execute_result"
    }
   ],
   "source": []
  },
  {
   "cell_type": "code",
   "execution_count": 4,
   "metadata": {},
   "outputs": [
    {
     "data": {
      "text/plain": [
       "1.24416"
      ]
     },
     "execution_count": 4,
     "metadata": {},
     "output_type": "execute_result"
    }
   ],
   "source": []
  },
  {
   "cell_type": "code",
   "execution_count": 9,
   "metadata": {},
   "outputs": [
    {
     "data": {
      "text/plain": [
       "5.76"
      ]
     },
     "execution_count": 9,
     "metadata": {},
     "output_type": "execute_result"
    }
   ],
   "source": []
  },
  {
   "cell_type": "code",
   "execution_count": 15,
   "metadata": {},
   "outputs": [
    {
     "data": {
      "text/plain": [
       "0.19249500000000003"
      ]
     },
     "execution_count": 15,
     "metadata": {},
     "output_type": "execute_result"
    }
   ],
   "source": []
  },
  {
   "cell_type": "code",
   "execution_count": 13,
   "metadata": {},
   "outputs": [
    {
     "data": {
      "text/plain": [
       "0.82944"
      ]
     },
     "execution_count": 13,
     "metadata": {},
     "output_type": "execute_result"
    }
   ],
   "source": []
  },
  {
   "cell_type": "code",
   "execution_count": 3,
   "metadata": {},
   "outputs": [
    {
     "name": "stdout",
     "output_type": "stream",
     "text": [
      "time.struct_time(tm_year=2019, tm_mon=6, tm_mday=28, tm_hour=11, tm_min=54, tm_sec=10, tm_wday=4, tm_yday=179, tm_isdst=-1)\n",
      "1561694050.0\n"
     ]
    }
   ],
   "source": [
    "import time\n",
    "str_time = \"2019-6-28 11:54:10\"\n",
    "# 将时间字符串转成时间数组\n",
    "# 第一个参数就是时间字符串; 第二个就是转换的一些字符串\n",
    "time_array = time.strptime(str_time, \"%Y-%m-%d %H:%M:%S\") \n",
    "print(time_array)\n",
    "\n",
    "# 转换为时间戳\n",
    "time_stamp = time.mktime(time_array) # 可以转化为int类型\n",
    "print(time_stamp )"
   ]
  },
  {
   "cell_type": "code",
   "execution_count": 5,
   "metadata": {},
   "outputs": [
    {
     "data": {
      "text/plain": [
       "'2019/06/28 13:42:00'"
      ]
     },
     "execution_count": 5,
     "metadata": {},
     "output_type": "execute_result"
    }
   ],
   "source": [
    "#字符串格式更改\n",
    "\n",
    "#\"2019-6-28 13:42:00\" 改为 \"2019/6/28 13:42:00\"\n",
    "# 先转换为时间数组\n",
    "import time\n",
    "str_time = \"2019-6-28 13:42:00\"\n",
    "time_array = time.strptime(str_time, \"%Y-%m-%d %H:%M:%S\")\n",
    "other_way_time = time.strftime(\"%Y/%m/%d %H:%M:%S\", time_array)\n",
    "other_way_time"
   ]
  },
  {
   "cell_type": "code",
   "execution_count": 13,
   "metadata": {},
   "outputs": [
    {
     "data": {
      "text/plain": [
       "'2019-06-28 13:47:52'"
      ]
     },
     "execution_count": 13,
     "metadata": {},
     "output_type": "execute_result"
    }
   ],
   "source": [
    "#时间戳转换为指定日期\n",
    "\n",
    "time_stamp = 1561700872\n",
    "# 使用localtime()转换为时间数组,在格式化自己想要的格式\n",
    "import time\n",
    "time_array = time.localtime(time_stamp)\n",
    "other_way_time = time.strftime(\"%Y-%m-%d %H:%M:%S\", time_array)\n",
    "other_way_time\n",
    "\n"
   ]
  },
  {
   "cell_type": "code",
   "execution_count": 11,
   "metadata": {},
   "outputs": [
    {
     "data": {
      "text/plain": [
       "'2019-06-28 05:47:52'"
      ]
     },
     "execution_count": 11,
     "metadata": {},
     "output_type": "execute_result"
    }
   ],
   "source": [
    "import datetime\n",
    "time_stamp = 1561700872\n",
    "datetime_array = datetime.datetime.utcfromtimestamp(time_stamp)\n",
    "other_way_time = datetime_array.strftime(\"%Y-%m-%d %H:%M:%S\")\n",
    "other_way_time"
   ]
  },
  {
   "cell_type": "code",
   "execution_count": 20,
   "metadata": {},
   "outputs": [
    {
     "data": {
      "text/plain": [
       "'2022/07/01 16:06:42'"
      ]
     },
     "execution_count": 20,
     "metadata": {},
     "output_type": "execute_result"
    }
   ],
   "source": [
    "#获取三天前的时间\n",
    "\n",
    "import time\n",
    "import datetime\n",
    "# 先获得时间数组格式的日期\n",
    "three_day_ago = (datetime.datetime.now() - datetime.timedelta(days=3))\n",
    "# 转换为时间戳\n",
    "time_stamp = int(time.mktime(three_day_ago.timetuple()))\n",
    "# 转换为其他形式的字符串\n",
    "other_way_time = three_day_ago.strftime(\"%Y/%m/%d %H:%M:%S\")\n",
    "other_way_time"
   ]
  },
  {
   "cell_type": "markdown",
   "metadata": {},
   "source": [
    "\n",
    "\n",
    " FLOPs of 3-layer D2NN are 0.62G, the number of parameters is 0.04Mand the reasoning time is 0.11ps, while FLOPs of multilayer perceptron are 1.24G, the number of parameters is 622M, and the reasoning time is 0.0008s"
   ]
  },
  {
   "cell_type": "markdown",
   "metadata": {},
   "source": []
  },
  {
   "cell_type": "code",
   "execution_count": 34,
   "metadata": {},
   "outputs": [
    {
     "data": {
      "text/plain": [
       "622.12"
      ]
     },
     "execution_count": 34,
     "metadata": {},
     "output_type": "execute_result"
    }
   ],
   "source": [
    "#感知器\n",
    "n =120*120\n",
    "param = ((n+1)*n)*3\n",
    "round(param/(1e6),2) #（M）"
   ]
  },
  {
   "cell_type": "code",
   "execution_count": 24,
   "metadata": {},
   "outputs": [
    {
     "data": {
      "text/plain": [
       "1.24"
      ]
     },
     "execution_count": 24,
     "metadata": {},
     "output_type": "execute_result"
    }
   ],
   "source": [
    "FlOPs = (2*n)*n*3/(1e9) #（G）\n",
    "round(FlOPs,2)"
   ]
  },
  {
   "cell_type": "code",
   "execution_count": 26,
   "metadata": {},
   "outputs": [
    {
     "data": {
      "text/plain": [
       "0.04"
      ]
     },
     "execution_count": 26,
     "metadata": {},
     "output_type": "execute_result"
    }
   ],
   "source": [
    "#onn\n",
    "param = n*3\n",
    "round(param/(1e6),2) #（M）"
   ]
  },
  {
   "cell_type": "code",
   "execution_count": 36,
   "metadata": {},
   "outputs": [
    {
     "data": {
      "text/plain": [
       "0.11"
      ]
     },
     "execution_count": 36,
     "metadata": {},
     "output_type": "execute_result"
    }
   ],
   "source": [
    "#time\n",
    "c = 3*10e8\n",
    "l = (53+2.7*3+9.3)*(450/1e9)\n",
    "t = l/c  # （s）\n",
    "round(t*10e12,2) #（ps）"
   ]
  },
  {
   "cell_type": "code",
   "execution_count": 38,
   "metadata": {},
   "outputs": [
    {
     "data": {
      "text/plain": [
       "0.62"
      ]
     },
     "execution_count": 38,
     "metadata": {},
     "output_type": "execute_result"
    }
   ],
   "source": [
    "FLOPs= n*n*3/ 1e9 #（G）\n",
    "round(FLOPs,2)"
   ]
  },
  {
   "cell_type": "markdown",
   "metadata": {},
   "source": [
    " Moreover, FLOPs of 4-layer D2NN are 0.83G, the number of parameters is 0.06M and the reasoning time is 0.27ps, while FLOPs of multilayer perceptron are 1.66G, the number of parameters is 829.5M, and the reasoning time is 0.001s;"
   ]
  },
  {
   "cell_type": "markdown",
   "metadata": {},
   "source": []
  },
  {
   "cell_type": "code",
   "execution_count": 56,
   "metadata": {},
   "outputs": [
    {
     "data": {
      "text/plain": [
       "829.5"
      ]
     },
     "execution_count": 56,
     "metadata": {},
     "output_type": "execute_result"
    }
   ],
   "source": [
    "#感知器\n",
    "n =120*120\n",
    "param = ((n+1)*n)*4\n",
    "round(param/(1e6),2) #（M）"
   ]
  },
  {
   "cell_type": "code",
   "execution_count": 45,
   "metadata": {},
   "outputs": [
    {
     "data": {
      "text/plain": [
       "1.66"
      ]
     },
     "execution_count": 45,
     "metadata": {},
     "output_type": "execute_result"
    }
   ],
   "source": [
    "FlOPs = (2*n)*n*4/(1e9) #（G）\n",
    "round(FlOPs,2)"
   ]
  },
  {
   "cell_type": "code",
   "execution_count": 54,
   "metadata": {},
   "outputs": [
    {
     "data": {
      "text/plain": [
       "0.06"
      ]
     },
     "execution_count": 54,
     "metadata": {},
     "output_type": "execute_result"
    }
   ],
   "source": [
    "#onn\n",
    "param = n*4\n",
    "round(param/(1e6),2) #（M）"
   ]
  },
  {
   "cell_type": "code",
   "execution_count": 53,
   "metadata": {},
   "outputs": [
    {
     "data": {
      "text/plain": [
       "0.27"
      ]
     },
     "execution_count": 53,
     "metadata": {},
     "output_type": "execute_result"
    }
   ],
   "source": [
    "#time\n",
    "c = 3*10e8\n",
    "l = (53+40*3+9.3)*(450/1e9)\n",
    "t = l/c  # （s）\n",
    "round(t*10e12,2) #（ps）"
   ]
  },
  {
   "cell_type": "code",
   "execution_count": 52,
   "metadata": {},
   "outputs": [
    {
     "data": {
      "text/plain": [
       "0.83"
      ]
     },
     "execution_count": 52,
     "metadata": {},
     "output_type": "execute_result"
    }
   ],
   "source": [
    "FLOPs= n*n*4/ 1e9 #（G）\n",
    "round(FLOPs,2)"
   ]
  },
  {
   "cell_type": "code",
   "execution_count": null,
   "metadata": {},
   "outputs": [],
   "source": []
  }
 ],
 "metadata": {
  "kernelspec": {
   "display_name": "Python 3.8.6 ('tfpy39')",
   "language": "python",
   "name": "python3"
  },
  "language_info": {
   "codemirror_mode": {
    "name": "ipython",
    "version": 3
   },
   "file_extension": ".py",
   "mimetype": "text/x-python",
   "name": "python",
   "nbconvert_exporter": "python",
   "pygments_lexer": "ipython3",
   "version": "3.8.6"
  },
  "orig_nbformat": 4,
  "vscode": {
   "interpreter": {
    "hash": "4d3128507b5a4621a20c2b29f37ac078f0ce925796d459584332777f346d4420"
   }
  }
 },
 "nbformat": 4,
 "nbformat_minor": 2
}
